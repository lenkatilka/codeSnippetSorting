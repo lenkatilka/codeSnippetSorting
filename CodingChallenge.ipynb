{
 "cells": [
  {
   "cell_type": "markdown",
   "metadata": {},
   "source": [
    "# Coding Challenge: Sorting Strings\n",
    "\n",
    "## Lenka Kovalcinova\n",
    "\n",
    "\n",
    "### Problem Statement:\n",
    "\n",
    " - Input:  list of strings containing integers and words \n",
    " - Output: sorted version of the list: \n",
    "     - All words are in alphabetical order.\n",
    "     - All integers are in numerical order.\n",
    "     - If the nth element in the list is an integer it must remain an integer, and if it is a word it must remain a word. \n",
    "     - Only ascii symbols that belong to letter set nor digit set (i.e. \"#\", \"%\", \";\", etc are not allowed). \n",
    "     \n",
    "### Examples:\n",
    "==========================================================\n",
    "\n",
    "Input String:  \"sym\\*bo+l\"    \n",
    "\n",
    "Ouptut String: \"symbol\"\n",
    "\n",
    "--\n",
    "\n",
    "Input String: \"12%3\"\n",
    "\n",
    "Output String: \"123\"\n",
    "\n",
    "--\n",
    "\n",
    "Input String Array:  20 cat bi?rd 12 do@g \n",
    "\n",
    "Output String Array: 12 bird cat 20 dog\n",
    "\n",
    "==========================================================\n",
    "\n",
    "### I/O instructions and format:\n",
    "\n",
    "**Input:** file that includes a single, possibly empty, line containing a space-separated list of strings to be sorted. \n",
    "   - Words will not contain spaces, will contain upper-case, lower-case letters a-z and maybe non-letter-non-digit characters. \n",
    "   - Integers will be in the range -999999 to 999999, and might also contain non-letter-non-digit characters. \n",
    "\n",
    "**Output:** file named \"result.txt\"\n",
    "   - The list of strings, sorted per the requirements above. \n",
    "   - Strings must be separated by a single space, with no leading space at the beginning of the line or trailing space at the end of the line. \n",
    "\n",
    "   - The program should take the input file name as the first argument, output file as the second argument:\n",
    "\n",
    "\troot:#  ./listSorting.py <path-to-input-file>/list.txt <path-to-output-file>/result.txt \n",
    "\n",
    "\n",
    "## Code Solution\n"
   ]
  },
  {
   "cell_type": "code",
   "execution_count": 49,
   "metadata": {
    "collapsed": true
   },
   "outputs": [],
   "source": [
    "### function that cleans and characterizes a string: find whether a a string is an integer \n",
    "## and remove all non-intger, non-letter characters\n",
    "\n",
    "def cleanIsWord(string):\n",
    "    clean = ''.join(character for character in string if character.isalnum())\n",
    "    if clean:\n",
    "        if clean[0].isdigit():\n",
    "            return(clean, False) # returns false, if not word\n",
    "        else :\n",
    "            return(clean, True)\n",
    "    else :\n",
    "        return('', True) # returns '' and true if clean is empty\n",
    "    "
   ]
  },
  {
   "cell_type": "code",
   "execution_count": 50,
   "metadata": {
    "collapsed": false
   },
   "outputs": [],
   "source": [
    "## reads the file and returns the array with strings\n",
    "def readLineParse(filename):\n",
    "    with open(filename) as f:\n",
    "        content = f.readlines()\n",
    "    if content:\n",
    "        content = content[0]\n",
    "        stringArray = content.split()\n",
    "        return(stringArray)\n",
    "    else:\n",
    "        return([])\n",
    "    "
   ]
  },
  {
   "cell_type": "code",
   "execution_count": 62,
   "metadata": {
    "collapsed": false
   },
   "outputs": [],
   "source": [
    "## splits an array into two subarrays and the indicator array to indicate integers in the\n",
    "## original string array\n",
    "\n",
    "## returns list of words, integers and integer indicator list\n",
    "def splitArrayIndicateIntegers(stringArray):\n",
    "    indicateIntegers = []\n",
    "    words = []\n",
    "    integers = []\n",
    "    \n",
    "    if stringArray:\n",
    "        for item in stringArray:\n",
    "            cleanString, isWord = cleanIsWord(item)\n",
    "            \n",
    "            if isWord and cleanString: ## checking if word and if cleanString is not empty string\n",
    "                indicateIntegers.append(0)\n",
    "                words.append(cleanString)\n",
    "            else:\n",
    "                indicateIntegers.append(1)\n",
    "                integers.append(int(cleanString))\n",
    "        return(words, integers, indicateIntegers)        \n",
    "        \n",
    "    else :\n",
    "        return('')"
   ]
  },
  {
   "cell_type": "code",
   "execution_count": 128,
   "metadata": {
    "collapsed": true
   },
   "outputs": [],
   "source": [
    "## sorting the arrays and return the sorted merged array of words and integers\n",
    "\n",
    "def sortWordsIntegers(words, integers, indicateIntegers):\n",
    "\n",
    "    sorted(words, reverse = True)\n",
    "    integers.sort(reverse = True)\n",
    "\n",
    "    stringArray = indicateIntegers\n",
    "    \n",
    "    for ind in range(len(stringArray)):\n",
    "        if stringArray[ind]:\n",
    "            stringArray[ind] = str(integers.pop())\n",
    "        else:\n",
    "            stringArray[ind] = words.pop()\n",
    "    \n",
    "    return(stringArray)\n",
    "            \n",
    "## output the file\n",
    "\n",
    "def outputArrayToFile(stringArray, outputFile):\n",
    "    outputFile = open(outputFile, 'w')\n",
    "    line = \" \".join(word for word in stringArray)\n",
    "    outputFile.write(line)"
   ]
  },
  {
   "cell_type": "code",
   "execution_count": 129,
   "metadata": {
    "collapsed": false
   },
   "outputs": [],
   "source": [
    "stringArray = readLineParse('list.txt')\n",
    "words, integers, indicateIntegers = splitArrayIndicateIntegers(stringArray)"
   ]
  },
  {
   "cell_type": "code",
   "execution_count": 130,
   "metadata": {
    "collapsed": false
   },
   "outputs": [],
   "source": [
    "stringArray = sortWordsIntegers(words, integers, indicateIntegers)"
   ]
  },
  {
   "cell_type": "code",
   "execution_count": 131,
   "metadata": {
    "collapsed": false
   },
   "outputs": [],
   "source": [
    "outputArrayToFile(stringArray, 'result.txt')"
   ]
  },
  {
   "cell_type": "markdown",
   "metadata": {},
   "source": [
    "## Testing"
   ]
  },
  {
   "cell_type": "code",
   "execution_count": null,
   "metadata": {
    "collapsed": true
   },
   "outputs": [],
   "source": []
  }
 ],
 "metadata": {
  "kernelspec": {
   "display_name": "Python 3",
   "language": "python",
   "name": "python3"
  },
  "language_info": {
   "codemirror_mode": {
    "name": "ipython",
    "version": 3
   },
   "file_extension": ".py",
   "mimetype": "text/x-python",
   "name": "python",
   "nbconvert_exporter": "python",
   "pygments_lexer": "ipython3",
   "version": "3.4.3"
  }
 },
 "nbformat": 4,
 "nbformat_minor": 0
}
